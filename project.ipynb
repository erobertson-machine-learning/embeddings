{
  "nbformat": 4,
  "nbformat_minor": 0,
  "metadata": {
    "colab": {
      "name": "project.ipynb",
      "provenance": [],
      "collapsed_sections": [],
      "toc_visible": true,
      "authorship_tag": "ABX9TyPMg2ZT6eTq/rzWAWlMRMH6",
      "include_colab_link": true
    },
    "kernelspec": {
      "name": "python3",
      "display_name": "Python 3"
    }
  },
  "cells": [
    {
      "cell_type": "markdown",
      "metadata": {
        "id": "view-in-github",
        "colab_type": "text"
      },
      "source": [
        "<a href=\"https://colab.research.google.com/github/erobertson-machine-learning/embeddings/blob/master/project.ipynb\" target=\"_parent\"><img src=\"https://colab.research.google.com/assets/colab-badge.svg\" alt=\"Open In Colab\"/></a>"
      ]
    },
    {
      "cell_type": "markdown",
      "metadata": {
        "id": "K3i4glbVFgXS",
        "colab_type": "text"
      },
      "source": [
        "# Embeddings for text \n",
        "- Source https://colab.research.google.com/github/lmoroney/dlaicourse/blob/master/TensorFlow%20In%20Practice/Course%203%20-%20NLP/Course%203%20-%20Week%202%20-%20Lesson%202.ipynb#scrollTo=zX4Kg8DUTKWO\n",
        "- Video https://www.youtube.com/watch?v=Y_hzMnRXjhI\n",
        "- Data found here : http://jmcauley.ucsd.edu/data/amazon/"
      ]
    },
    {
      "cell_type": "code",
      "metadata": {
        "id": "SeGzZ6BLE2-v",
        "colab_type": "code",
        "outputId": "239ab026-819f-42c0-a3c2-3893d77d9c7d",
        "colab": {
          "base_uri": "https://localhost:8080/",
          "height": 122
        }
      },
      "source": [
        "from google.colab import drive\n",
        "drive.mount('/content/drive')"
      ],
      "execution_count": 0,
      "outputs": [
        {
          "output_type": "stream",
          "text": [
            "Go to this URL in a browser: https://accounts.google.com/o/oauth2/auth?client_id=947318989803-6bn6qk8qdgf4n4g3pfee6491hc0brc4i.apps.googleusercontent.com&redirect_uri=urn%3aietf%3awg%3aoauth%3a2.0%3aoob&response_type=code&scope=email%20https%3a%2f%2fwww.googleapis.com%2fauth%2fdocs.test%20https%3a%2f%2fwww.googleapis.com%2fauth%2fdrive%20https%3a%2f%2fwww.googleapis.com%2fauth%2fdrive.photos.readonly%20https%3a%2f%2fwww.googleapis.com%2fauth%2fpeopleapi.readonly\n",
            "\n",
            "Enter your authorization code:\n",
            "··········\n",
            "Mounted at /content/drive\n"
          ],
          "name": "stdout"
        }
      ]
    },
    {
      "cell_type": "markdown",
      "metadata": {
        "id": "zQHk0xJ6Lk9t",
        "colab_type": "text"
      },
      "source": [
        "## Loading Data"
      ]
    },
    {
      "cell_type": "code",
      "metadata": {
        "id": "Tdw93F5tFmeX",
        "colab_type": "code",
        "colab": {}
      },
      "source": [
        "import json"
      ],
      "execution_count": 0,
      "outputs": []
    },
    {
      "cell_type": "code",
      "metadata": {
        "id": "LnRrXL5FFnME",
        "colab_type": "code",
        "outputId": "3f89fe16-4abc-40f0-f69f-8432d0c03630",
        "colab": {
          "base_uri": "https://localhost:8080/",
          "height": 496
        }
      },
      "source": [
        "# Load in the data\n",
        "data_file = open('drive/My Drive/Colab Notebooks/data/reviews_Office_Products', 'r') \n",
        "json_lines = data_file.readlines()\n",
        "data_raw = [ json.loads(line) for line in json_lines ]\n",
        "data_raw[:3]"
      ],
      "execution_count": 0,
      "outputs": [
        {
          "output_type": "execute_result",
          "data": {
            "text/plain": [
              "[{'asin': 'B00000JBLH',\n",
              "  'helpful': [3, 4],\n",
              "  'overall': 5.0,\n",
              "  'reviewText': \"I bought my first HP12C in about 1984 or so, and it served me faithfully until 2002 when I lost it while travelling.  I searched for another one to replace it, but found one difficult to come by in my area.  So, I decided to buy up and purchased an HP 49G.  What a mistake!  I know that many people view the HP 49G (now 49G+) as the flagship of the HP line, but for me that was a disaster.The 49G may be powerful, but using it is extremely counterintuitive...and the manual was sketchy at best.  The 12C, on the other hand, does what I need in a way that makes good sense to me.If you are looking for a solid, reliable calculator, the HP12C may be for you.  It's programmable.  It does basic statistics well, and many business applications too.  The manual makes sense; you will be up and running in short order.I'm ready to set my 49G aside and move back to my old friend.  I didn't even have to replace the batteries in well over a decade of use!HP 12C, I'm coming home!\",\n",
              "  'reviewTime': '09 3, 2004',\n",
              "  'reviewerID': 'A32T2H8150OJLU',\n",
              "  'reviewerName': 'ARH',\n",
              "  'summary': 'A solid performer, and long time friend',\n",
              "  'unixReviewTime': 1094169600},\n",
              " {'asin': 'B00000JBLH',\n",
              "  'helpful': [7, 9],\n",
              "  'overall': 5.0,\n",
              "  'reviewText': 'WHY THIS BELATED REVIEW? I feel very obliged to share my views about this old workhorse, the HP12C GOLD at its 25th anniversary and my 1Oth year as a satisfied ower user and fan. Especially after sharing my frank views on Amazon about two of its three successors on Amazon.com, burying the HP12c Platinum (2004 1st release, HP12cP) and praising the HP12c Platiunum Anniversary Edition (2006 3rd release, HP12cPAE or HP12cPA).To the majority of HP 12c calculator owners and fans, including the non-techkie nerd like myself, the name Hewlett-Packard To the majority of HP 12c calculator owners and fans. The brandname of Hewlett-Packard is synonymous with the highest quality and best range offered in handheld electronic business financial calculators before the first generation of personal computers hits the desktops of business users.To date (December 2007), the bearer of this \"gold\" standard is none other than the HP12C HP\\'s \"golden boy\" in its calculator business segment.The HP12C now a matured product, is the only continuing HP handheld surviving calculator product since \\'81 and probably the longest selling electronic calculator ever. According to HP almost 15 million HP 12Cs, cPs was sold since ,it is probably the best selling HP (and RPN) calculator ever.As a proven product, the HP12C \"gold\" works from day 1, with its form factor and sofware remaining unchanged and has not been dethroned by rivals and even its HP successors which had come and go.Even with PC software versions being sold, the 12C remains the truly indispensable \"portable\" finance-business heldheld computer for its owners, professionals and students alike. This handy companion powers up immediately and is faster than any portable personal computers to jump right into the action.The HP12C is a serious product and the ultimate time tested solution, field tested proven by its users and survived all its rival products, the workhorse moves on.Anyone in charge of this HP line should always bear in mind that the continued production run of the HP 12c is a testimony of HP\\'s quality and standard expected by its customers.Don\\'t just listen to a HP12C fan here, I own and am using three out of 4 models of the HP 12C series, and it is amusing and somewhat disappointing to observe that it had taken HP at least four years and two major upgrades of the HP 12c Platinium, in its futile attempt to \"fix & retire\" the HP12C with three successors in the form of HP12cPlatinum since 2004.It would seems especially frustrating on the part of HP, to realize after all the effort spent on remaking the HP12cPlatinum models that it would not outdone its siblings the HP10bII and HP17bII+ series to seriously challenge the HP12C Gold.  However, by their own rights the HP10Bs and HP17Bs, and the HP12cPlatinum may find their rightful place in the HP financial calculator line, differentiating the HP12C GOLD in terms of price and functions.IMHO, this had happened because the following golden rules were infringed by HP...GOLDEN RULE I - A PRODUCT WHICH STILL SELLS ITSELF IS NEVER OBSOLETE.GOLDEN RULE II - IF IT AREN\\'T BROKEN, DON\\'t FIX IT ! \"The gold rule of thumb should always be guarded as gospel by the HP heldheld calculator product team. Based on the same reasoning, the HP12C\\'s built quality and product standard is paramount to its users.GOLDEN RULE III - ALWAYS LISTEN TO YOUR CUSTOMERS! If in doubt, see rules I & II.GOLDEN RULE IV - ONLY OUTSOURCE THE MANUFACTURING OF YOUR PRODUCT TO SOMEONE WHO COULD BETTER YOUR OWN PRODUCT QUALITY. If in doubt ask IBM about Lenovo.GOLDEN RULE V - THE BENCHMARKING INDUSTRY STANDARD FOR THIS PRODUCT LINE IS THE HP12C. Just in case, if HP does not know or is not listening to its customers.GOLDEN RULE VI - DO NOT DISCONTINUE THE ICONIC HP12C GOLD. HP needs no reminder that the customer is always right. Please let your customer, the ultimate market force decide if the HP12C should ever be retired.As an ardent fan of HP12C and line of financial business & scientific calculators, I am of the view that the day when HP discontinue the HP12C would be the day it exit this business segment. I speculate this would happen when the HP brandname disappears from the 12C just like after IBM name had disappeared from ThinkPads and ThinkCentres.Since the price of GOLD is on the rise, it is indeed puzzling to fans of the HP12C, why HP did not release a genuine HP12C gold 25th anniversary model for the fans to mark the occasion, if replacing the discontinuing the HP12C GOLD is the intention READ ALL GOLDEN RULES above.To be fair, the silver HP12c Platinum Anniversary is very nice and has spotted the \"retro\" silver look of the HP 11C, however, it is still not the GOLD standard. With HP missing this golden opportunity to mark the occasion, I would love to see and own a HP 12C engraved with 50th Anniversary logo, reckon that this would be the ultimate testimony for the HP12C and a milestone for its fans.Looking forward, a GOLD 50th anniversary HP12C Anniversary model would be very nice for the fans.For HP, this is a lucrative business proposition. By now, they would have realized that if they have any of its products which could hit a 50th year home run  in 2031, it would not be from its other product line-it would be this original HP12C GOLD standard bearer. So please treat the old workhorse with the upmost respect!',\n",
              "  'reviewTime': '12 15, 2007',\n",
              "  'reviewerID': 'A3MAFS04ZABRGO',\n",
              "  'reviewerName': 'Let it Be \"Alan\"',\n",
              "  'summary': \"Price of GOLD is up, so don't bury the golden flagship HP12c !\",\n",
              "  'unixReviewTime': 1197676800},\n",
              " {'asin': 'B00000JBLH',\n",
              "  'helpful': [3, 3],\n",
              "  'overall': 2.0,\n",
              "  'reviewText': 'I have an HP 48GX that has been kicking for more than twenty years and an HP 11 that is more than 25 years old and still flawless.  I have had this 12C for about 18 months and the number 5 key is already giving me trouble (have to press hard for it to register).  No drops, no abuse.  The overall feel of this new HP is cheaper plastic.  The keys feel hollow and light.  The available functions are great.  This is a classic calculator.  But the functions are no good if the keys stop working...',\n",
              "  'reviewTime': '01 1, 2011',\n",
              "  'reviewerID': 'A1F1A0QQP2XVH5',\n",
              "  'reviewerName': 'Mark B',\n",
              "  'summary': 'Good functionality, but not durable like old HPs',\n",
              "  'unixReviewTime': 1293840000}]"
            ]
          },
          "metadata": {
            "tags": []
          },
          "execution_count": 88
        }
      ]
    },
    {
      "cell_type": "code",
      "metadata": {
        "id": "1Ew0PxKhFnin",
        "colab_type": "code",
        "outputId": "81e1c9d6-2ceb-4726-fdb8-b26665179627",
        "colab": {
          "base_uri": "https://localhost:8080/",
          "height": 139
        }
      },
      "source": [
        "# Clean data, only need text and raiting\n",
        "data = [ (d['reviewText'], d['overall']) for d in data_raw ]\n",
        "data[:3]"
      ],
      "execution_count": 0,
      "outputs": [
        {
          "output_type": "execute_result",
          "data": {
            "text/plain": [
              "[(\"I bought my first HP12C in about 1984 or so, and it served me faithfully until 2002 when I lost it while travelling.  I searched for another one to replace it, but found one difficult to come by in my area.  So, I decided to buy up and purchased an HP 49G.  What a mistake!  I know that many people view the HP 49G (now 49G+) as the flagship of the HP line, but for me that was a disaster.The 49G may be powerful, but using it is extremely counterintuitive...and the manual was sketchy at best.  The 12C, on the other hand, does what I need in a way that makes good sense to me.If you are looking for a solid, reliable calculator, the HP12C may be for you.  It's programmable.  It does basic statistics well, and many business applications too.  The manual makes sense; you will be up and running in short order.I'm ready to set my 49G aside and move back to my old friend.  I didn't even have to replace the batteries in well over a decade of use!HP 12C, I'm coming home!\",\n",
              "  5.0),\n",
              " ('WHY THIS BELATED REVIEW? I feel very obliged to share my views about this old workhorse, the HP12C GOLD at its 25th anniversary and my 1Oth year as a satisfied ower user and fan. Especially after sharing my frank views on Amazon about two of its three successors on Amazon.com, burying the HP12c Platinum (2004 1st release, HP12cP) and praising the HP12c Platiunum Anniversary Edition (2006 3rd release, HP12cPAE or HP12cPA).To the majority of HP 12c calculator owners and fans, including the non-techkie nerd like myself, the name Hewlett-Packard To the majority of HP 12c calculator owners and fans. The brandname of Hewlett-Packard is synonymous with the highest quality and best range offered in handheld electronic business financial calculators before the first generation of personal computers hits the desktops of business users.To date (December 2007), the bearer of this \"gold\" standard is none other than the HP12C HP\\'s \"golden boy\" in its calculator business segment.The HP12C now a matured product, is the only continuing HP handheld surviving calculator product since \\'81 and probably the longest selling electronic calculator ever. According to HP almost 15 million HP 12Cs, cPs was sold since ,it is probably the best selling HP (and RPN) calculator ever.As a proven product, the HP12C \"gold\" works from day 1, with its form factor and sofware remaining unchanged and has not been dethroned by rivals and even its HP successors which had come and go.Even with PC software versions being sold, the 12C remains the truly indispensable \"portable\" finance-business heldheld computer for its owners, professionals and students alike. This handy companion powers up immediately and is faster than any portable personal computers to jump right into the action.The HP12C is a serious product and the ultimate time tested solution, field tested proven by its users and survived all its rival products, the workhorse moves on.Anyone in charge of this HP line should always bear in mind that the continued production run of the HP 12c is a testimony of HP\\'s quality and standard expected by its customers.Don\\'t just listen to a HP12C fan here, I own and am using three out of 4 models of the HP 12C series, and it is amusing and somewhat disappointing to observe that it had taken HP at least four years and two major upgrades of the HP 12c Platinium, in its futile attempt to \"fix & retire\" the HP12C with three successors in the form of HP12cPlatinum since 2004.It would seems especially frustrating on the part of HP, to realize after all the effort spent on remaking the HP12cPlatinum models that it would not outdone its siblings the HP10bII and HP17bII+ series to seriously challenge the HP12C Gold.  However, by their own rights the HP10Bs and HP17Bs, and the HP12cPlatinum may find their rightful place in the HP financial calculator line, differentiating the HP12C GOLD in terms of price and functions.IMHO, this had happened because the following golden rules were infringed by HP...GOLDEN RULE I - A PRODUCT WHICH STILL SELLS ITSELF IS NEVER OBSOLETE.GOLDEN RULE II - IF IT AREN\\'T BROKEN, DON\\'t FIX IT ! \"The gold rule of thumb should always be guarded as gospel by the HP heldheld calculator product team. Based on the same reasoning, the HP12C\\'s built quality and product standard is paramount to its users.GOLDEN RULE III - ALWAYS LISTEN TO YOUR CUSTOMERS! If in doubt, see rules I & II.GOLDEN RULE IV - ONLY OUTSOURCE THE MANUFACTURING OF YOUR PRODUCT TO SOMEONE WHO COULD BETTER YOUR OWN PRODUCT QUALITY. If in doubt ask IBM about Lenovo.GOLDEN RULE V - THE BENCHMARKING INDUSTRY STANDARD FOR THIS PRODUCT LINE IS THE HP12C. Just in case, if HP does not know or is not listening to its customers.GOLDEN RULE VI - DO NOT DISCONTINUE THE ICONIC HP12C GOLD. HP needs no reminder that the customer is always right. Please let your customer, the ultimate market force decide if the HP12C should ever be retired.As an ardent fan of HP12C and line of financial business & scientific calculators, I am of the view that the day when HP discontinue the HP12C would be the day it exit this business segment. I speculate this would happen when the HP brandname disappears from the 12C just like after IBM name had disappeared from ThinkPads and ThinkCentres.Since the price of GOLD is on the rise, it is indeed puzzling to fans of the HP12C, why HP did not release a genuine HP12C gold 25th anniversary model for the fans to mark the occasion, if replacing the discontinuing the HP12C GOLD is the intention READ ALL GOLDEN RULES above.To be fair, the silver HP12c Platinum Anniversary is very nice and has spotted the \"retro\" silver look of the HP 11C, however, it is still not the GOLD standard. With HP missing this golden opportunity to mark the occasion, I would love to see and own a HP 12C engraved with 50th Anniversary logo, reckon that this would be the ultimate testimony for the HP12C and a milestone for its fans.Looking forward, a GOLD 50th anniversary HP12C Anniversary model would be very nice for the fans.For HP, this is a lucrative business proposition. By now, they would have realized that if they have any of its products which could hit a 50th year home run  in 2031, it would not be from its other product line-it would be this original HP12C GOLD standard bearer. So please treat the old workhorse with the upmost respect!',\n",
              "  5.0),\n",
              " ('I have an HP 48GX that has been kicking for more than twenty years and an HP 11 that is more than 25 years old and still flawless.  I have had this 12C for about 18 months and the number 5 key is already giving me trouble (have to press hard for it to register).  No drops, no abuse.  The overall feel of this new HP is cheaper plastic.  The keys feel hollow and light.  The available functions are great.  This is a classic calculator.  But the functions are no good if the keys stop working...',\n",
              "  2.0)]"
            ]
          },
          "metadata": {
            "tags": []
          },
          "execution_count": 89
        }
      ]
    },
    {
      "cell_type": "markdown",
      "metadata": {
        "id": "SuOcGfWILnpl",
        "colab_type": "text"
      },
      "source": [
        "## Balence Data"
      ]
    },
    {
      "cell_type": "code",
      "metadata": {
        "id": "tze8qLuCLqnP",
        "colab_type": "code",
        "outputId": "7cded111-c491-47ab-ec63-e209e3da6103",
        "colab": {
          "base_uri": "https://localhost:8080/",
          "height": 34
        }
      },
      "source": [
        "length = len(data)\n",
        "length"
      ],
      "execution_count": 0,
      "outputs": [
        {
          "output_type": "execute_result",
          "data": {
            "text/plain": [
              "53258"
            ]
          },
          "metadata": {
            "tags": []
          },
          "execution_count": 90
        }
      ]
    },
    {
      "cell_type": "code",
      "metadata": {
        "id": "pBppxIM6MfsA",
        "colab_type": "code",
        "colab": {}
      },
      "source": [
        "def CountFrequency(my_list):   \n",
        "    freq = {} \n",
        "    for item in my_list: \n",
        "        if (item in freq): \n",
        "            freq[item] += 1\n",
        "        else: \n",
        "            freq[item] = 1\n",
        "    return freq"
      ],
      "execution_count": 0,
      "outputs": []
    },
    {
      "cell_type": "code",
      "metadata": {
        "id": "Me14C90ULxw2",
        "colab_type": "code",
        "outputId": "cdcbbf05-977e-4b83-c1d7-b2e5a01b5a56",
        "colab": {
          "base_uri": "https://localhost:8080/",
          "height": 34
        }
      },
      "source": [
        "# Very Heavilty skewed towards 5 star raitings\n",
        "raitings = [ d[1] for d in data ]\n",
        "reviews = [ d[0] for d in data ]\n",
        "frequencies = CountFrequency( raitings )\n",
        "frequencies"
      ],
      "execution_count": 0,
      "outputs": [
        {
          "output_type": "execute_result",
          "data": {
            "text/plain": [
              "{1.0: 1130, 2.0: 1726, 3.0: 5060, 4.0: 15015, 5.0: 30327}"
            ]
          },
          "metadata": {
            "tags": []
          },
          "execution_count": 92
        }
      ]
    },
    {
      "cell_type": "code",
      "metadata": {
        "id": "2cYYojYNMtPe",
        "colab_type": "code",
        "outputId": "bfe4436e-ea6e-4e1d-cd4b-c0d114241781",
        "colab": {
          "base_uri": "https://localhost:8080/",
          "height": 34
        }
      },
      "source": [
        "# Ballence data as best as possible\n",
        "# 1-4 stars => bad, 5 stars => good\n",
        "raitings = list(map( lambda x: x == 5, raitings ))\n",
        "CountFrequency( raitings )"
      ],
      "execution_count": 0,
      "outputs": [
        {
          "output_type": "execute_result",
          "data": {
            "text/plain": [
              "{False: 22931, True: 30327}"
            ]
          },
          "metadata": {
            "tags": []
          },
          "execution_count": 93
        }
      ]
    },
    {
      "cell_type": "code",
      "metadata": {
        "id": "A8BsdrnxNaXz",
        "colab_type": "code",
        "outputId": "e0f1f827-c3de-4eb6-d58e-8a2241b0ea5e",
        "colab": {
          "base_uri": "https://localhost:8080/",
          "height": 71
        }
      },
      "source": [
        "# trunkate extra 5-stars\n",
        "max5Stars = length - frequencies[5]\n",
        "ballenced_raitings = []\n",
        "ballenced_reviews = []\n",
        "for i in range(len(reviews)):\n",
        "  if raitings[i] :\n",
        "    max5Stars -= 1\n",
        "    if max5Stars >= 0:\n",
        "      ballenced_raitings.append( raitings[i] )\n",
        "      ballenced_reviews.append( reviews[i] )\n",
        "  else:\n",
        "    ballenced_raitings.append( raitings[i] )\n",
        "    ballenced_reviews.append( reviews[i] )\n",
        "print( ballenced_raitings[:5] )\n",
        "print( ballenced_reviews[:5] )"
      ],
      "execution_count": 0,
      "outputs": [
        {
          "output_type": "stream",
          "text": [
            "[True, True, False, True, True]\n",
            "[\"I bought my first HP12C in about 1984 or so, and it served me faithfully until 2002 when I lost it while travelling.  I searched for another one to replace it, but found one difficult to come by in my area.  So, I decided to buy up and purchased an HP 49G.  What a mistake!  I know that many people view the HP 49G (now 49G+) as the flagship of the HP line, but for me that was a disaster.The 49G may be powerful, but using it is extremely counterintuitive...and the manual was sketchy at best.  The 12C, on the other hand, does what I need in a way that makes good sense to me.If you are looking for a solid, reliable calculator, the HP12C may be for you.  It's programmable.  It does basic statistics well, and many business applications too.  The manual makes sense; you will be up and running in short order.I'm ready to set my 49G aside and move back to my old friend.  I didn't even have to replace the batteries in well over a decade of use!HP 12C, I'm coming home!\", 'WHY THIS BELATED REVIEW? I feel very obliged to share my views about this old workhorse, the HP12C GOLD at its 25th anniversary and my 1Oth year as a satisfied ower user and fan. Especially after sharing my frank views on Amazon about two of its three successors on Amazon.com, burying the HP12c Platinum (2004 1st release, HP12cP) and praising the HP12c Platiunum Anniversary Edition (2006 3rd release, HP12cPAE or HP12cPA).To the majority of HP 12c calculator owners and fans, including the non-techkie nerd like myself, the name Hewlett-Packard To the majority of HP 12c calculator owners and fans. The brandname of Hewlett-Packard is synonymous with the highest quality and best range offered in handheld electronic business financial calculators before the first generation of personal computers hits the desktops of business users.To date (December 2007), the bearer of this \"gold\" standard is none other than the HP12C HP\\'s \"golden boy\" in its calculator business segment.The HP12C now a matured product, is the only continuing HP handheld surviving calculator product since \\'81 and probably the longest selling electronic calculator ever. According to HP almost 15 million HP 12Cs, cPs was sold since ,it is probably the best selling HP (and RPN) calculator ever.As a proven product, the HP12C \"gold\" works from day 1, with its form factor and sofware remaining unchanged and has not been dethroned by rivals and even its HP successors which had come and go.Even with PC software versions being sold, the 12C remains the truly indispensable \"portable\" finance-business heldheld computer for its owners, professionals and students alike. This handy companion powers up immediately and is faster than any portable personal computers to jump right into the action.The HP12C is a serious product and the ultimate time tested solution, field tested proven by its users and survived all its rival products, the workhorse moves on.Anyone in charge of this HP line should always bear in mind that the continued production run of the HP 12c is a testimony of HP\\'s quality and standard expected by its customers.Don\\'t just listen to a HP12C fan here, I own and am using three out of 4 models of the HP 12C series, and it is amusing and somewhat disappointing to observe that it had taken HP at least four years and two major upgrades of the HP 12c Platinium, in its futile attempt to \"fix & retire\" the HP12C with three successors in the form of HP12cPlatinum since 2004.It would seems especially frustrating on the part of HP, to realize after all the effort spent on remaking the HP12cPlatinum models that it would not outdone its siblings the HP10bII and HP17bII+ series to seriously challenge the HP12C Gold.  However, by their own rights the HP10Bs and HP17Bs, and the HP12cPlatinum may find their rightful place in the HP financial calculator line, differentiating the HP12C GOLD in terms of price and functions.IMHO, this had happened because the following golden rules were infringed by HP...GOLDEN RULE I - A PRODUCT WHICH STILL SELLS ITSELF IS NEVER OBSOLETE.GOLDEN RULE II - IF IT AREN\\'T BROKEN, DON\\'t FIX IT ! \"The gold rule of thumb should always be guarded as gospel by the HP heldheld calculator product team. Based on the same reasoning, the HP12C\\'s built quality and product standard is paramount to its users.GOLDEN RULE III - ALWAYS LISTEN TO YOUR CUSTOMERS! If in doubt, see rules I & II.GOLDEN RULE IV - ONLY OUTSOURCE THE MANUFACTURING OF YOUR PRODUCT TO SOMEONE WHO COULD BETTER YOUR OWN PRODUCT QUALITY. If in doubt ask IBM about Lenovo.GOLDEN RULE V - THE BENCHMARKING INDUSTRY STANDARD FOR THIS PRODUCT LINE IS THE HP12C. Just in case, if HP does not know or is not listening to its customers.GOLDEN RULE VI - DO NOT DISCONTINUE THE ICONIC HP12C GOLD. HP needs no reminder that the customer is always right. Please let your customer, the ultimate market force decide if the HP12C should ever be retired.As an ardent fan of HP12C and line of financial business & scientific calculators, I am of the view that the day when HP discontinue the HP12C would be the day it exit this business segment. I speculate this would happen when the HP brandname disappears from the 12C just like after IBM name had disappeared from ThinkPads and ThinkCentres.Since the price of GOLD is on the rise, it is indeed puzzling to fans of the HP12C, why HP did not release a genuine HP12C gold 25th anniversary model for the fans to mark the occasion, if replacing the discontinuing the HP12C GOLD is the intention READ ALL GOLDEN RULES above.To be fair, the silver HP12c Platinum Anniversary is very nice and has spotted the \"retro\" silver look of the HP 11C, however, it is still not the GOLD standard. With HP missing this golden opportunity to mark the occasion, I would love to see and own a HP 12C engraved with 50th Anniversary logo, reckon that this would be the ultimate testimony for the HP12C and a milestone for its fans.Looking forward, a GOLD 50th anniversary HP12C Anniversary model would be very nice for the fans.For HP, this is a lucrative business proposition. By now, they would have realized that if they have any of its products which could hit a 50th year home run  in 2031, it would not be from its other product line-it would be this original HP12C GOLD standard bearer. So please treat the old workhorse with the upmost respect!', 'I have an HP 48GX that has been kicking for more than twenty years and an HP 11 that is more than 25 years old and still flawless.  I have had this 12C for about 18 months and the number 5 key is already giving me trouble (have to press hard for it to register).  No drops, no abuse.  The overall feel of this new HP is cheaper plastic.  The keys feel hollow and light.  The available functions are great.  This is a classic calculator.  But the functions are no good if the keys stop working...', \"I've started doing more finance stuff recently and went looking for a good time-value-of-money calculator. I was pleasantly surprised to find the HP12C was still available. I've been using HP calculators for decades (HP-45, HP-15 and now an HP-32SII) because of their great feel and long-lasting quality. However, it's also true that the HP12C is probably the last relic of the great HP calculator legacy. It has 'Made In China' stamped on the rear, but the keyboard feel seems much like my dear departed 15C. Hopefully it will have the same long-term durability.Why do I recommend this calculator?*) RPN. In my world, the purpose of a calculator is to solve fairly straightforward math exercises quickly. If you're a college student and need speed and pictures and parenthesis, buy a graphing calculator. If you're solving Black-Scholl's option equations, fire up Excel or something on your desktop computer. But for straightforward punch-it-in calculator work, nothing beats RPN entry.*) Fit and Finish. The keys have good tactile feedback. The display blinks on every entry. You just *know* you've entered the data correctly. The purpose of a calculator is quick, accurate answers at your fingertips. If you don't care about this, don't waste money on this calculator (or any high-end TI or Casio). Buy a $5 Walmart calculator.*) Straightforward financial calculations. Sure, I could write a program for my HP 32SII to do financial calculations. But why, when I can just key in the data directly to the HP12C, push dedicated financial keys, and get immediate answers. This calculator has most of the financial functions you need in a calculator (amortization, depreciation, NPV, date functions, etc.) along with the basic complement of standard calculator functions (ln, mean, standard deviation, factorial, etc). The complexity level is about right for a calculator. It doesn't take a computer science degree to operate it like the graphing calculators require, and it's far more capable than the $5 Walmart brands.*) Speed. I see reviews complaining that this calculator is slow when doing things like IRR computations. They're right. So what? If your IRR computation is that complicated, use a spreadsheet. If you're a college student taking exams, you're better off with a graphing calculator anyway. For 99% of the things the rest of us do with a calculator the 12C is more than fast enough, and the price of speed is power consumption. My 32SII is going on 10 years without a battery replacement, and I trust the 12C will have the same thrifty ways. It's a pain to need a quick answer, reach for the calculator, and then find the batteries are exhausted. This was a regular occurence when I owned TI and Casio brands. I've never had this problem with the HPs I've owned.It also has some programming capabilities which some may find useful. Personally, I haven't used the programming mode in a calculator for many years. Almost invariably I find it easier to just pull up a spreadsheet or write some code.I suspect the under-30 crowd will find this calculator--maybe the whole calculator premise--feels 'dated', and in a way they're right. However, if you're one of those who, like me, use these tools every day and always want one nearby, I think you'll like this calculator. For fit, finish, and a pleasant balance of performance with simplicity it seems to be on par with my earlier HP calculators. (Time will tell, I suppose, whether or not it has the same durability.) What is certain is that in the age of cellphones, PDAs and computers the era of high-quality long-lasting purpose-built calculators is going the way of the Dodo bird.\", \"For simple calculations and discounted cash flows, this one is still the best.  I used this in my graduate business program, and for years as a practicing CPA and financial executive.  Of course for complex cash flows you will want to use an Excel spreadsheet; but for quick cash flow calculations the HP12C really is the tool you want.Personally I find Reverse Polish Notation (&#34;RPN&#34;), which is what this calculator uses, to be easy and intuitive.  Many do; some don't.  RPN takes the place of brackets in an arithmetical expression and is easy to learn.The hardware on this calculator is superb.  One of these lasted me decades.  It got lost in an office move, so I am purchasing another.  RJB.\"]\n"
          ],
          "name": "stdout"
        }
      ]
    },
    {
      "cell_type": "code",
      "metadata": {
        "id": "rpjDbiBfOm4E",
        "colab_type": "code",
        "outputId": "fa9962bb-3532-487a-8de2-cde1e7ccb0b6",
        "colab": {
          "base_uri": "https://localhost:8080/",
          "height": 34
        }
      },
      "source": [
        "# Perfectly ballenced, as all things should be\n",
        "CountFrequency( ballenced_raitings )"
      ],
      "execution_count": 0,
      "outputs": [
        {
          "output_type": "execute_result",
          "data": {
            "text/plain": [
              "{False: 22931, True: 22931}"
            ]
          },
          "metadata": {
            "tags": []
          },
          "execution_count": 95
        }
      ]
    },
    {
      "cell_type": "markdown",
      "metadata": {
        "id": "P8rLyLV-QGO6",
        "colab_type": "text"
      },
      "source": [
        "## Randomize the array"
      ]
    },
    {
      "cell_type": "code",
      "metadata": {
        "id": "8UuOTo9wQFQz",
        "colab_type": "code",
        "colab": {}
      },
      "source": [
        "import random"
      ],
      "execution_count": 0,
      "outputs": []
    },
    {
      "cell_type": "code",
      "metadata": {
        "id": "IVLVmgMEQL4z",
        "colab_type": "code",
        "outputId": "37cd78a5-fb8b-4f24-fab2-e109d05afc52",
        "colab": {
          "base_uri": "https://localhost:8080/",
          "height": 357
        }
      },
      "source": [
        "combined_data = []\n",
        "for i in range(len( ballenced_raitings )):\n",
        "  combined_data.append( ( ballenced_raitings[i], ballenced_reviews[i] ) )\n",
        "random.shuffle( combined_data )\n",
        "[ a[0] for a in combined_data ][:20]"
      ],
      "execution_count": 0,
      "outputs": [
        {
          "output_type": "execute_result",
          "data": {
            "text/plain": [
              "[True,\n",
              " True,\n",
              " True,\n",
              " False,\n",
              " True,\n",
              " False,\n",
              " True,\n",
              " False,\n",
              " False,\n",
              " True,\n",
              " False,\n",
              " False,\n",
              " False,\n",
              " False,\n",
              " False,\n",
              " True,\n",
              " True,\n",
              " True,\n",
              " True,\n",
              " True]"
            ]
          },
          "metadata": {
            "tags": []
          },
          "execution_count": 97
        }
      ]
    },
    {
      "cell_type": "code",
      "metadata": {
        "id": "RZWaNUOKQgCJ",
        "colab_type": "code",
        "colab": {}
      },
      "source": [
        "ballenced_raitings = [ a[0] for a in combined_data ]\n",
        "ballenced_reviews = [a[1] for a in combined_data]"
      ],
      "execution_count": 0,
      "outputs": []
    },
    {
      "cell_type": "markdown",
      "metadata": {
        "id": "y_iP0oSEF45g",
        "colab_type": "text"
      },
      "source": [
        "## Tokenize the data"
      ]
    },
    {
      "cell_type": "code",
      "metadata": {
        "id": "SxxR3aHVWt_v",
        "colab_type": "code",
        "colab": {}
      },
      "source": [
        "maxlength = 150\n",
        "dimension = 16\n",
        "vocabulary = 8000"
      ],
      "execution_count": 0,
      "outputs": []
    },
    {
      "cell_type": "code",
      "metadata": {
        "id": "qohpJO2EFwcT",
        "colab_type": "code",
        "colab": {}
      },
      "source": [
        "from tensorflow.keras.preprocessing.text import Tokenizer\n",
        "from tensorflow.keras.preprocessing.sequence import pad_sequences"
      ],
      "execution_count": 0,
      "outputs": []
    },
    {
      "cell_type": "code",
      "metadata": {
        "id": "3UBYapFiGNHG",
        "colab_type": "code",
        "colab": {}
      },
      "source": [
        "# Takes first 44000 cases for training data\n",
        "train_data_sentences = ballenced_reviews[:44000]\n",
        "train_data_raiting = ballenced_raitings[:44000]\n",
        "test_data_sentences = ballenced_reviews[44000:]\n",
        "test_data_raiting = ballenced_raitings[44000:]"
      ],
      "execution_count": 0,
      "outputs": []
    },
    {
      "cell_type": "code",
      "metadata": {
        "id": "xN8jPhxfGTZT",
        "colab_type": "code",
        "outputId": "9de59305-d3ff-4900-e6f3-bb6087f809bd",
        "colab": {
          "base_uri": "https://localhost:8080/",
          "height": 34
        }
      },
      "source": [
        "# Word Tokenizing\n",
        "## Will take the 'vocabulary' most common words and tokenize them\n",
        "tokenizer = Tokenizer(num_words=vocabulary,oov_token='--oov--')\n",
        "tokenizer.fit_on_texts( train_data_sentences )\n",
        "\n",
        "# There are 13972 unique words, we are cutting that down to 'vocabulary'\n",
        "print('Found %d unique words.' % len(tokenizer.word_index))"
      ],
      "execution_count": 0,
      "outputs": [
        {
          "output_type": "stream",
          "text": [
            "Found 51950 unique words.\n"
          ],
          "name": "stdout"
        }
      ]
    },
    {
      "cell_type": "code",
      "metadata": {
        "id": "SSRO5IaoG0oE",
        "colab_type": "code",
        "outputId": "04b5b660-2ab3-4b84-e2fa-8e0e4588d473",
        "colab": {
          "base_uri": "https://localhost:8080/",
          "height": 136
        }
      },
      "source": [
        "# Run our train data through the tokenizer\n",
        "train_data_sequences = tokenizer.texts_to_sequences(train_data_sentences)\n",
        "training_data_padded = pad_sequences(train_data_sequences, padding='post', truncating='post', maxlen=maxlength)\n",
        "\n",
        "test_data_sequences = tokenizer.texts_to_sequences(test_data_sentences)\n",
        "testing_data_padded = pad_sequences(test_data_sequences, padding='post', truncating='post', maxlen=maxlength)\n",
        "\n",
        "# Our data is now padded to the first maxlength word per review\n",
        "training_data_padded "
      ],
      "execution_count": 0,
      "outputs": [
        {
          "output_type": "execute_result",
          "data": {
            "text/plain": [
              "array([[ 125,    4,   33, ...,    0,    0,    0],\n",
              "       [  28,   17,  228, ...,    0,    0,    0],\n",
              "       [   6,   35,    2, ...,    0,    0,    0],\n",
              "       ...,\n",
              "       [  28,   73,   17, ...,    0,    0,    0],\n",
              "       [  11,    8,    4, ...,    0,    0,    0],\n",
              "       [  18, 3374,  201, ...,    0,    0,    0]], dtype=int32)"
            ]
          },
          "metadata": {
            "tags": []
          },
          "execution_count": 168
        }
      ]
    },
    {
      "cell_type": "markdown",
      "metadata": {
        "id": "86zlY68vJkeg",
        "colab_type": "text"
      },
      "source": [
        "## Model"
      ]
    },
    {
      "cell_type": "code",
      "metadata": {
        "id": "g7zXOhrNJlpH",
        "colab_type": "code",
        "colab": {}
      },
      "source": [
        "import numpy as np"
      ],
      "execution_count": 0,
      "outputs": []
    },
    {
      "cell_type": "code",
      "metadata": {
        "id": "U8m103SNJn9X",
        "colab_type": "code",
        "colab": {}
      },
      "source": [
        "train_X = np.array(training_data_padded)\n",
        "train_Y = np.array(train_data_raiting)\n",
        "test_X = np.array(testing_data_padded)\n",
        "test_Y = np.array(test_data_raiting)"
      ],
      "execution_count": 0,
      "outputs": []
    },
    {
      "cell_type": "code",
      "metadata": {
        "id": "mHa2SknOKuq_",
        "colab_type": "code",
        "colab": {}
      },
      "source": [
        "import tensorflow as tf"
      ],
      "execution_count": 0,
      "outputs": []
    },
    {
      "cell_type": "code",
      "metadata": {
        "id": "7Lf1xW4zKKGe",
        "colab_type": "code",
        "colab": {}
      },
      "source": [
        "model = tf.keras.Sequential([\n",
        "    #  total words in our vocab, each word is given a  dimensional representation, each input is  tokens long\n",
        "    tf.keras.layers.Embedding(vocabulary, dimension, input_length=maxlength),\n",
        "    # Each sentence is represented by the sum of each tokenized vector it contains\n",
        "    tf.keras.layers.GlobalAveragePooling1D(),\n",
        "    # each vector is then sent through a 24 node dense layer\n",
        "    tf.keras.layers.Dropout(.2, input_shape=(dimension,)),\n",
        "    tf.keras.layers.Dense(dimension, activation='relu'),\n",
        "    # and given a final output of 0 or 1\n",
        "    tf.keras.layers.Dense(1, activation='sigmoid')\n",
        "])\n",
        "model.compile(loss='binary_crossentropy',optimizer='adam',metrics=['accuracy'])"
      ],
      "execution_count": 0,
      "outputs": []
    },
    {
      "cell_type": "code",
      "metadata": {
        "id": "wuMHZucnKpHP",
        "colab_type": "code",
        "outputId": "92194c11-dec5-4b00-a1f7-b2681b398c6f",
        "colab": {
          "base_uri": "https://localhost:8080/",
          "height": 323
        }
      },
      "source": [
        "model.summary()"
      ],
      "execution_count": 0,
      "outputs": [
        {
          "output_type": "stream",
          "text": [
            "Model: \"sequential_12\"\n",
            "_________________________________________________________________\n",
            "Layer (type)                 Output Shape              Param #   \n",
            "=================================================================\n",
            "embedding_12 (Embedding)     (None, 150, 16)           128000    \n",
            "_________________________________________________________________\n",
            "global_average_pooling1d_12  (None, 16)                0         \n",
            "_________________________________________________________________\n",
            "dropout_1 (Dropout)          (None, 16)                0         \n",
            "_________________________________________________________________\n",
            "dense_24 (Dense)             (None, 16)                272       \n",
            "_________________________________________________________________\n",
            "dense_25 (Dense)             (None, 1)                 17        \n",
            "=================================================================\n",
            "Total params: 128,289\n",
            "Trainable params: 128,289\n",
            "Non-trainable params: 0\n",
            "_________________________________________________________________\n"
          ],
          "name": "stdout"
        }
      ]
    },
    {
      "cell_type": "code",
      "metadata": {
        "id": "NmiGS5voLaM1",
        "colab_type": "code",
        "outputId": "4a8624e3-d870-4733-ec58-7ac80c521e5e",
        "colab": {
          "base_uri": "https://localhost:8080/",
          "height": 527
        }
      },
      "source": [
        "num_epochs = 15\n",
        "history = model.fit(train_X, train_Y, epochs=num_epochs, validation_data=(test_X, test_Y), verbose=2)"
      ],
      "execution_count": 0,
      "outputs": [
        {
          "output_type": "stream",
          "text": [
            "Epoch 1/15\n",
            "1375/1375 - 4s - loss: 0.6087 - accuracy: 0.6698 - val_loss: 0.5520 - val_accuracy: 0.7266\n",
            "Epoch 2/15\n",
            "1375/1375 - 4s - loss: 0.5201 - accuracy: 0.7503 - val_loss: 0.5346 - val_accuracy: 0.7368\n",
            "Epoch 3/15\n",
            "1375/1375 - 4s - loss: 0.4898 - accuracy: 0.7682 - val_loss: 0.5353 - val_accuracy: 0.7401\n",
            "Epoch 4/15\n",
            "1375/1375 - 4s - loss: 0.4715 - accuracy: 0.7797 - val_loss: 0.5331 - val_accuracy: 0.7444\n",
            "Epoch 5/15\n",
            "1375/1375 - 4s - loss: 0.4585 - accuracy: 0.7874 - val_loss: 0.5440 - val_accuracy: 0.7347\n",
            "Epoch 6/15\n",
            "1375/1375 - 4s - loss: 0.4493 - accuracy: 0.7950 - val_loss: 0.5443 - val_accuracy: 0.7427\n",
            "Epoch 7/15\n",
            "1375/1375 - 4s - loss: 0.4400 - accuracy: 0.8004 - val_loss: 0.5488 - val_accuracy: 0.7390\n",
            "Epoch 8/15\n",
            "1375/1375 - 4s - loss: 0.4318 - accuracy: 0.8062 - val_loss: 0.5641 - val_accuracy: 0.7352\n",
            "Epoch 9/15\n",
            "1375/1375 - 4s - loss: 0.4217 - accuracy: 0.8114 - val_loss: 0.5723 - val_accuracy: 0.7363\n",
            "Epoch 10/15\n",
            "1375/1375 - 4s - loss: 0.4144 - accuracy: 0.8133 - val_loss: 0.5754 - val_accuracy: 0.7293\n",
            "Epoch 11/15\n",
            "1375/1375 - 4s - loss: 0.4064 - accuracy: 0.8180 - val_loss: 0.5796 - val_accuracy: 0.7240\n",
            "Epoch 12/15\n",
            "1375/1375 - 4s - loss: 0.3971 - accuracy: 0.8213 - val_loss: 0.5852 - val_accuracy: 0.7223\n",
            "Epoch 13/15\n",
            "1375/1375 - 4s - loss: 0.3887 - accuracy: 0.8252 - val_loss: 0.5998 - val_accuracy: 0.7191\n",
            "Epoch 14/15\n",
            "1375/1375 - 4s - loss: 0.3805 - accuracy: 0.8299 - val_loss: 0.6066 - val_accuracy: 0.7197\n",
            "Epoch 15/15\n",
            "1375/1375 - 4s - loss: 0.3720 - accuracy: 0.8320 - val_loss: 0.6353 - val_accuracy: 0.7154\n"
          ],
          "name": "stdout"
        }
      ]
    },
    {
      "cell_type": "markdown",
      "metadata": {
        "id": "ZPaREEGfVP4O",
        "colab_type": "text"
      },
      "source": [
        "## Visualizing progress"
      ]
    },
    {
      "cell_type": "code",
      "metadata": {
        "id": "xugPNcMrP4S7",
        "colab_type": "code",
        "outputId": "654ab290-0fc9-46a7-953d-79e482063acb",
        "colab": {
          "base_uri": "https://localhost:8080/",
          "height": 762
        }
      },
      "source": [
        "import matplotlib.pyplot as plt\n",
        "from matplotlib.pyplot import figure\n",
        "figure(figsize=(15,8))\n",
        "\n",
        "def plot_graphs(history, string):\n",
        "  plt.plot(history.history[string])\n",
        "  plt.plot(history.history['val_'+string])\n",
        "  plt.xlabel(\"Epochs\")\n",
        "  plt.ylabel(string)\n",
        "  plt.legend([string, 'val_'+string])\n",
        "  plt.show()\n",
        "  \n",
        "plot_graphs(history, \"accuracy\")\n",
        "plot_graphs(history, \"loss\")"
      ],
      "execution_count": 0,
      "outputs": [
        {
          "output_type": "display_data",
          "data": {
            "image/png": "[encoded data removed]",
            "text/plain": [
              "<Figure size 1080x576 with 1 Axes>"
            ]
          },
          "metadata": {
            "tags": [],
            "needs_background": "light"
          }
        },
        {
          "output_type": "display_data",
          "data": {
            "image/png": "[encoded data removed]",
            "text/plain": [
              "<Figure size 432x288 with 1 Axes>"
            ]
          },
          "metadata": {
            "tags": [],
            "needs_background": "light"
          }
        }
      ]
    },
    {
      "cell_type": "code",
      "metadata": {
        "id": "5U3u26zbU_7b",
        "colab_type": "code",
        "colab": {}
      },
      "source": [
        "# Sentiment is  having some major issues with over fitting\n",
        "# Maybe i should try phrases instead of words as tokens?"
      ],
      "execution_count": 0,
      "outputs": []
    },
    {
      "cell_type": "markdown",
      "metadata": {
        "id": "k50XgPMgZi3i",
        "colab_type": "text"
      },
      "source": [
        "## Using the model"
      ]
    },
    {
      "cell_type": "code",
      "metadata": {
        "id": "QjhaSExAZkkO",
        "colab_type": "code",
        "colab": {}
      },
      "source": [
        "input_text = [\"I really liked the product, quality ink. However it was terrible and i hate it. I wil recoment it to everyone because I love it. I lied. It sucks. I hate everything\"]"
      ],
      "execution_count": 0,
      "outputs": []
    },
    {
      "cell_type": "code",
      "metadata": {
        "id": "ZNcGW2zYZuFO",
        "colab_type": "code",
        "colab": {}
      },
      "source": [
        "sequences = tokenizer.texts_to_sequences(input_text)"
      ],
      "execution_count": 0,
      "outputs": []
    },
    {
      "cell_type": "code",
      "metadata": {
        "id": "MVcGd6S5Z-R1",
        "colab_type": "code",
        "colab": {}
      },
      "source": [
        "running_predictions = []\n",
        "for i in range (len(sequences[0])):\n",
        "  padded = pad_sequences( [sequences[0][:(i+1)]], maxlen=maxlength, padding='post', truncating='post')\n",
        "  running_predictions.append((input_text[0].split(' ')[i], model.predict(padded)[0][0]))"
      ],
      "execution_count": 0,
      "outputs": []
    },
    {
      "cell_type": "code",
      "metadata": {
        "id": "mqDB4Do8agUb",
        "colab_type": "code",
        "outputId": "b41dce84-5caa-4f99-9f3f-e3d5d4a108be",
        "colab": {
          "base_uri": "https://localhost:8080/",
          "height": 561
        }
      },
      "source": [
        "running_predictions"
      ],
      "execution_count": 0,
      "outputs": [
        {
          "output_type": "execute_result",
          "data": {
            "text/plain": [
              "[('I', 0.80614406),\n",
              " ('really', 0.8208615),\n",
              " ('liked', 0.65399647),\n",
              " ('the', 0.6342448),\n",
              " ('product,', 0.62546325),\n",
              " ('quality', 0.6721033),\n",
              " ('ink.', 0.6661563),\n",
              " ('However', 0.26957095),\n",
              " ('it', 0.25567177),\n",
              " ('was', 0.24248546),\n",
              " ('terrible', 0.067963436),\n",
              " ('and', 0.074188836),\n",
              " ('i', 0.07848932),\n",
              " ('hate', 0.060355727),\n",
              " ('it.', 0.0577952),\n",
              " ('I', 0.0605653),\n",
              " ('wil', 0.063043125),\n",
              " ('recoment', 0.06561523),\n",
              " ('it', 0.062176157),\n",
              " ('to', 0.06009944),\n",
              " ('everyone', 0.09269334),\n",
              " ('because', 0.09134161),\n",
              " ('I', 0.09715598),\n",
              " ('love', 0.19616239),\n",
              " ('it.', 0.18508907),\n",
              " ('I', 0.19804075),\n",
              " ('lied.', 0.20614485),\n",
              " ('It', 0.19464451),\n",
              " ('sucks.', 0.1322276),\n",
              " ('I', 0.1409054),\n",
              " ('hate', 0.10890464),\n",
              " ('everything', 0.17652653)]"
            ]
          },
          "metadata": {
            "tags": []
          },
          "execution_count": 209
        }
      ]
    },
    {
      "cell_type": "code",
      "metadata": {
        "id": "_W-WeETcauxg",
        "colab_type": "code",
        "outputId": "6645ce58-3052-4fd2-b7cf-232c978c3887",
        "colab": {
          "base_uri": "https://localhost:8080/",
          "height": 512
        }
      },
      "source": [
        "plt_x = [ a[0] for a in running_predictions ]\n",
        "plt_y = [ a[1] for a in running_predictions ]\n",
        "xValues = [ a for a in range(len(running_predictions))]\n",
        "\n",
        "figure(figsize=(15,8))\n",
        "plt.plot( xValues, plt_y)\n",
        "plt.xticks( xValues, plt_x, rotation='vertical' )\n",
        "plt.margins(0.3)\n",
        "plt.subplots_adjust(bottom=0.15)\n",
        "plt.show()"
      ],
      "execution_count": 0,
      "outputs": [
        {
          "output_type": "display_data",
          "data": {
            "image/png": "[encoded data removed]",
            "text/plain": [
              "<Figure size 1080x576 with 1 Axes>"
            ]
          },
          "metadata": {
            "tags": [],
            "needs_background": "light"
          }
        }
      ]
    },
    {
      "cell_type": "code",
      "metadata": {
        "id": "fxgrF1LleAv3",
        "colab_type": "code",
        "colab": {}
      },
      "source": [
        "running_predictions = []\n",
        "for i in range (len(sequences[0])):\n",
        "  if ( i < 10 ):\n",
        "    padded = pad_sequences( [sequences[0][:(i+1)]], maxlen=maxlength, padding='post', truncating='post')\n",
        "    running_predictions.append((input_text[0].split(' ')[i], model.predict(padded)[0][0]))\n",
        "  else:\n",
        "    padded = pad_sequences( [sequences[0][(i-10):(i+1)]], maxlen=maxlength, padding='post', truncating='post')\n",
        "    running_predictions.append((input_text[0].split(' ')[i], model.predict(padded)[0][0]))"
      ],
      "execution_count": 0,
      "outputs": []
    },
    {
      "cell_type": "code",
      "metadata": {
        "id": "_JAKyerkgeSz",
        "colab_type": "code",
        "outputId": "d80c0299-ce5a-4784-8ea9-53be2b4a931e",
        "colab": {
          "base_uri": "https://localhost:8080/",
          "height": 512
        }
      },
      "source": [
        "plt_x = [ a[0] for a in running_predictions ]\n",
        "plt_y = [ a[1] for a in running_predictions ]\n",
        "xValues = [ a for a in range(len(running_predictions))]\n",
        "\n",
        "figure(figsize=(15,8))\n",
        "plt.plot( xValues, plt_y)\n",
        "plt.xticks( xValues, plt_x, rotation='vertical' )\n",
        "plt.margins(0.3)\n",
        "plt.subplots_adjust(bottom=0.15)\n",
        "plt.show()"
      ],
      "execution_count": 0,
      "outputs": [
        {
          "output_type": "display_data",
          "data": {
            "image/png": "[encoded data removed]",
            "text/plain": [
              "<Figure size 1080x576 with 1 Axes>"
            ]
          },
          "metadata": {
            "tags": [],
            "needs_background": "light"
          }
        }
      ]
    },
    {
      "cell_type": "markdown",
      "metadata": {
        "id": "wIycmZiBflLC",
        "colab_type": "text"
      },
      "source": [
        "# Conclusion\n",
        "\n",
        "Created a sentiment analysis model from ~50K amazon reviews for office appliances, Worked decently well. Needs to take into account more than just the word itselfs sentiment and factor in the sorounding words aswell."
      ]
    },
    {
      "cell_type": "code",
      "metadata": {
        "id": "KMEHilHLgIDq",
        "colab_type": "code",
        "colab": {}
      },
      "source": [
        ""
      ],
      "execution_count": 0,
      "outputs": []
    }
  ]
}